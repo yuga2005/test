{
  "nbformat_minor": 0,
  "cells": [
    {
      "cell_type": "markdown",
      "metadata": {
        "id": "view-in-github",
        "colab_type": "text"
      },
      "source": [
        "<a href=\"https://colab.research.google.com/github/yuga2005/test/blob/master/sequence_analyzer_final_bkp.ipynb\" target=\"_parent\"><img src=\"https://colab.research.google.com/assets/colab-badge.svg\" alt=\"Open In Colab\"/></a>"
      ]
    },
    {
      "cell_type": "code",
      "source": [
        "!pip install python-pptx"
      ],
      "metadata": {
        "id": "09LD05kvZyI5",
        "outputId": "d7bb95b6-a3aa-416b-c8c6-3bb4346c3b0b",
        "colab": {
          "base_uri": "https://localhost:8080/"
        }
      },
      "execution_count": null,
      "outputs": [
        {
          "output_type": "stream",
          "name": "stdout",
          "text": [
            "Collecting python-pptx\n",
            "  Downloading python_pptx-0.6.23-py3-none-any.whl (471 kB)\n",
            "\u001b[2K     \u001b[90m━━━━━━━━━━━━━━━━━━━━━━━━━━━━━━━━━━━━━━━━\u001b[0m \u001b[32m471.6/471.6 kB\u001b[0m \u001b[31m5.5 MB/s\u001b[0m eta \u001b[36m0:00:00\u001b[0m\n",
            "\u001b[?25hRequirement already satisfied: lxml>=3.1.0 in /usr/local/lib/python3.10/dist-packages (from python-pptx) (4.9.4)\n",
            "Requirement already satisfied: Pillow>=3.3.2 in /usr/local/lib/python3.10/dist-packages (from python-pptx) (9.4.0)\n",
            "Collecting XlsxWriter>=0.5.7 (from python-pptx)\n",
            "  Downloading XlsxWriter-3.2.0-py3-none-any.whl (159 kB)\n",
            "\u001b[2K     \u001b[90m━━━━━━━━━━━━━━━━━━━━━━━━━━━━━━━━━━━━━━━━\u001b[0m \u001b[32m159.9/159.9 kB\u001b[0m \u001b[31m2.2 MB/s\u001b[0m eta \u001b[36m0:00:00\u001b[0m\n",
            "\u001b[?25hInstalling collected packages: XlsxWriter, python-pptx\n",
            "Successfully installed XlsxWriter-3.2.0 python-pptx-0.6.23\n"
          ]
        }
      ]
    },
    {
      "cell_type": "code",
      "source": [
        "from pptx import Presentation\n",
        "from pptx.util import Inches\n",
        "\n",
        "# Create a PowerPoint presentation object\n",
        "prs = Presentation()\n",
        "\n",
        "# Title Slide\n",
        "slide = prs.slides.add_slide(prs.slide_layouts[0])\n",
        "title = slide.shapes.title\n",
        "subtitle = slide.placeholders[1]\n",
        "\n",
        "title.text = \"Sentiment Analysis and Visualization of Hotel Reviews\"\n",
        "subtitle.text = \"Using RoBERTa and GPT-2 Models with Python\"\n",
        "\n",
        "# Slide 1: Introduction\n",
        "slide = prs.slides.add_slide(prs.slide_layouts[1])\n",
        "title = slide.shapes.title\n",
        "content = slide.placeholders[1]\n",
        "\n",
        "title.text = \"Introduction\"\n",
        "content.text = (\"In this project, we perform sentiment analysis on hotel reviews using the RoBERTa model.\\n\"\n",
        "                \"We also generate replies to negative and neutral reviews using the GPT-2 model.\\n\"\n",
        "                \"Finally, we visualize the sentiment distribution to understand the feedback better.\")\n",
        "\n",
        "# Slide 2: Libraries and Models Used\n",
        "slide = prs.slides.add_slide(prs.slide_layouts[1])\n",
        "title = slide.shapes.title\n",
        "content = slide.placeholders[1]\n",
        "\n",
        "title.text = \"Libraries and Models Used\"\n",
        "content.text = (\"1. Libraries: \\n\"\n",
        "                \"  - torch\\n\"\n",
        "                \"  - transformers\\n\"\n",
        "                \"  - nltk\\n\"\n",
        "                \"  - matplotlib\\n\\n\"\n",
        "                \"2. Models: \\n\"\n",
        "                \"  - RoBERTa (for sentiment analysis)\\n\"\n",
        "                \"  - GPT-2 (for generating replies)\")\n",
        "\n",
        "# Slide 3: Reading Reviews\n",
        "slide = prs.slides.add_slide(prs.slide_layouts[1])\n",
        "title = slide.shapes.title\n",
        "content = slide.placeholders[1]\n",
        "\n",
        "title.text = \"Reading Reviews\"\n",
        "content.text = (\"The reviews are read from a text file named 'hotel_reviews.txt'.\\n\"\n",
        "                \"Each review is processed line by line.\\n\\n\"\n",
        "                \"Code Snippet:\\n\"\n",
        "                \"```python\\n\"\n",
        "                \"def read_reviews(file_path):\\n\"\n",
        "                \"    with open(file_path, 'r', encoding='utf-8') as file:\\n\"\n",
        "                \"        reviews = file.readlines()\\n\"\n",
        "                \"    return reviews\\n\"\n",
        "                \"```\")\n",
        "\n",
        "# Slide 4: Sentiment Analysis\n",
        "slide = prs.slides.add_slide(prs.slide_layouts[1])\n",
        "title = slide.shapes.title\n",
        "content = slide.placeholders[1]\n",
        "\n",
        "title.text = \"Sentiment Analysis\"\n",
        "content.text = (\"We use the pre-trained RoBERTa model for sentiment analysis.\\n\"\n",
        "                \"The sentiment of each sentence is categorized as Positive, Neutral, or Negative.\\n\\n\"\n",
        "                \"Code Snippet:\\n\"\n",
        "                \"```python\\n\"\n",
        "                \"def sentiment_analysis(text):\\n\"\n",
        "                \"    inputs = roberta_tokenizer(text, return_tensors=\\\"pt\\\", truncation=True, padding=True)\\n\"\n",
        "                \"    outputs = roberta_model(**inputs)\\n\"\n",
        "                \"    scores = outputs.logits.detach().numpy()[0]\\n\"\n",
        "                \"    sentiment = scores.argmax()\\n\"\n",
        "                \"    if sentiment == 0:\\n\"\n",
        "                \"        return \\\"NEGATIVE\\\"\\n\"\n",
        "                \"    elif sentiment == 1:\\n\"\n",
        "                \"        return \\\"NEUTRAL\\\"\\n\"\n",
        "                \"    else:\\n\"\n",
        "                \"        return \\\"POSITIVE\\\"\\n\"\n",
        "                \"```\")\n",
        "\n",
        "# Slide 5: Reply Generation\n",
        "slide = prs.slides.add_slide(prs.slide_layouts[1])\n",
        "title = slide.shapes.title\n",
        "content = slide.placeholders[1]\n",
        "\n",
        "title.text = \"Reply Generation\"\n",
        "content.text = (\"For negative and neutral reviews, we generate replies using the GPT-2 model.\\n\\n\"\n",
        "                \"Code Snippet:\\n\"\n",
        "                \"```python\\n\"\n",
        "                \"input_text = f\\\"Customer complaint: {sentence}\\\\nHotel response:\\\"\\n\"\n",
        "                \"inputs = gpt2_tokenizer.encode(input_text, return_tensors=\\\"pt\\\")\\n\"\n",
        "                \"outputs = gpt2_model.generate(inputs, max_length=100, num_return_sequences=1, no_repeat_ngram_size=2)\\n\"\n",
        "                \"reply = gpt2_tokenizer.decode(outputs[0], skip_special_tokens=True)\\n\"\n",
        "                \"```\")\n",
        "\n",
        "# Slide 6: Visualizing Sentiment Distribution\n",
        "slide = prs.slides.add_slide(prs.slide_layouts[1])\n",
        "title = slide.shapes.title\n",
        "content = slide.placeholders[1]\n",
        "\n",
        "title.text = \"Visualizing Sentiment Distribution\"\n",
        "content.text = (\"We use the `matplotlib` library to visualize the sentiment distribution.\\n\"\n",
        "                \"A pie chart is created to show the percentage of positive, neutral, and negative reviews.\\n\\n\"\n",
        "                \"Code Snippet:\\n\"\n",
        "                \"```python\\n\"\n",
        "                \"def visualize_sentiments(sentiment_counts):\\n\"\n",
        "                \"    labels = sentiment_counts.keys()\\n\"\n",
        "                \"    sizes = sentiment_counts.values()\\n\"\n",
        "                \"    colors = ['green', 'blue', 'red']\\n\"\n",
        "                \"    explode = (0.1, 0, 0)\\n\\n\"\n",
        "                \"    plt.figure(figsize=(8, 8))\\n\"\n",
        "                \"    plt.pie(sizes, explode=explode, labels=labels, colors=colors,\\n\"\n",
        "                \"            autopct='%1.1f%%', shadow=True, startangle=140)\\n\"\n",
        "                \"    plt.axis('equal')\\n\"\n",
        "                \"    plt.title(\\\"Sentiment Distribution of Hotel Reviews\\\")\\n\"\n",
        "                \"    plt.show()\\n\"\n",
        "                \"```\")\n",
        "\n",
        "# Slide 7: Conclusion\n",
        "slide = prs.slides.add_slide(prs.slide_layouts[1])\n",
        "title = slide.shapes.title\n",
        "content = slide.placeholders[1]\n",
        "\n",
        "title.text = \"Conclusion\"\n",
        "content.text = (\"The sentiment analysis and visualization provide insights into customer feedback.\\n\"\n",
        "                \"Positive reviews indicate areas of strength, while negative and neutral reviews highlight areas for improvement.\\n\"\n",
        "                \"The automated reply generation can help in quickly addressing customer concerns.\")\n",
        "\n",
        "# Save the presentation\n",
        "prs.save('Sentiment_Analysis_Hotel_Reviews.pptx')\n",
        "\n",
        "# Verify the creation of the presentation\n",
        "print(\"Presentation created successfully!\")\n"
      ],
      "metadata": {
        "id": "1XeM0KV-Z0O6",
        "outputId": "d1626d03-818e-4eb6-d3c8-2b3f486f7380",
        "colab": {
          "base_uri": "https://localhost:8080/"
        }
      },
      "execution_count": null,
      "outputs": [
        {
          "output_type": "stream",
          "name": "stdout",
          "text": [
            "Presentation created successfully!\n"
          ]
        }
      ]
    },
    {
      "cell_type": "code",
      "source": [
        "# Sample hotel reviews\n",
        "reviews = [\n",
        "    \"The room was spotless, and the staff were incredibly attentive. Loved the complimentary breakfast!\",\n",
        "\"Check-in was a breeze, but the room was a bit outdated. Overall, a decent stay.\",\n",
        "\"Fantastic location and stunning views from the balcony. Highly recommend!\",\n",
        "\"Had some issues with the Wi-Fi, but the front desk resolved it quickly. Great customer service.\",\n",
        "\"The bed was extremely comfortable, but the noise from the street was quite bothersome.\",\n",
        "\"The pool area was lovely, but the water was too cold for my liking.\",\n",
        "\"Amazing service! The concierge went above and beyond to help us with our plans.\",\n",
        "\"The bathroom was clean, but the shower pressure was too low.\",\n",
        "\"Really enjoyed the on-site restaurant. The food was delicious, and the atmosphere was cozy.\",\n",
        "\"Room service was prompt, and the staff were very polite. Will definitely stay here again.\",\n",
        "\"The air conditioning unit was a bit noisy, but the room was comfortable and spacious.\",\n",
        "\"Loved the modern decor and the comfortable bed. A great place for a short stay.\",\n",
        "\"The location was convenient for sightseeing, but the hotel itself needs some updates.\",\n",
        "\"The fitness center was well-equipped and clean. Great for a quick workout.\",\n",
        "\"Our room had a stunning view of the city skyline. Made our stay memorable!\",\n",
        "\"Staff were friendly, but the check-out process was slower than expected.\",\n",
        "\"The complimentary breakfast had a lot of variety and was very tasty.\",\n",
        "\"The elevator was quite slow, but the overall experience was pleasant.\",\n",
        "\"The hotel lobby was beautiful, but the rooms were a bit small for the price.\",\n",
        "\"Great value for the money. Will definitely recommend to friends and family.\",\n",
        "\"The housekeeping staff did an excellent job. The room was always immaculate.\",\n",
        "\"The parking fees were a bit high, but the location made up for it.\",\n",
        "\"Had an issue with the room key, but it was quickly resolved by the front desk.\",\n",
        "\"The hotel offered a complimentary shuttle to the airport, which was very convenient.\",\n",
        "\"The ambiance of the hotel was very relaxing. Perfect for a weekend getaway.\",\n",
        "\"The pillows were a bit too soft for my liking, but the bed was otherwise comfortable.\",\n",
        "\"Really appreciated the complimentary bottled water and snacks in the room.\",\n",
        "\"The conference facilities were top-notch. Our event went smoothly.\",\n",
        "\"The room had a weird smell, but the staff were accommodating and moved us to a different room.\",\n",
        "\"The spa services were excellent. A great way to unwind during our stay.\"\n",
        "]\n",
        "\n",
        "# Write the reviews to a text file\n",
        "with open('hotel_reviews.txt', 'w', encoding='utf-8') as file:\n",
        "    for review in reviews:\n",
        "        file.write(review + \"\\n\")\n",
        "\n",
        "# Verify the file creation\n",
        "with open('hotel_reviews.txt', 'r', encoding='utf-8') as file:\n",
        "    content = file.read()\n",
        "    print(content)\n"
      ],
      "metadata": {
        "id": "gDH-nSZuat69",
        "outputId": "fa8044d9-b60a-4ffc-ba82-bf153d8f0185",
        "colab": {
          "base_uri": "https://localhost:8080/"
        }
      },
      "execution_count": null,
      "outputs": [
        {
          "output_type": "stream",
          "name": "stdout",
          "text": [
            "The room was spotless, and the staff were incredibly attentive. Loved the complimentary breakfast!\n",
            "Check-in was a breeze, but the room was a bit outdated. Overall, a decent stay.\n",
            "Fantastic location and stunning views from the balcony. Highly recommend!\n",
            "Had some issues with the Wi-Fi, but the front desk resolved it quickly. Great customer service.\n",
            "The bed was extremely comfortable, but the noise from the street was quite bothersome.\n",
            "The pool area was lovely, but the water was too cold for my liking.\n",
            "Amazing service! The concierge went above and beyond to help us with our plans.\n",
            "The bathroom was clean, but the shower pressure was too low.\n",
            "Really enjoyed the on-site restaurant. The food was delicious, and the atmosphere was cozy.\n",
            "Room service was prompt, and the staff were very polite. Will definitely stay here again.\n",
            "The air conditioning unit was a bit noisy, but the room was comfortable and spacious.\n",
            "Loved the modern decor and the comfortable bed. A great place for a short stay.\n",
            "The location was convenient for sightseeing, but the hotel itself needs some updates.\n",
            "The fitness center was well-equipped and clean. Great for a quick workout.\n",
            "Our room had a stunning view of the city skyline. Made our stay memorable!\n",
            "Staff were friendly, but the check-out process was slower than expected.\n",
            "The complimentary breakfast had a lot of variety and was very tasty.\n",
            "The elevator was quite slow, but the overall experience was pleasant.\n",
            "The hotel lobby was beautiful, but the rooms were a bit small for the price.\n",
            "Great value for the money. Will definitely recommend to friends and family.\n",
            "The housekeeping staff did an excellent job. The room was always immaculate.\n",
            "The parking fees were a bit high, but the location made up for it.\n",
            "Had an issue with the room key, but it was quickly resolved by the front desk.\n",
            "The hotel offered a complimentary shuttle to the airport, which was very convenient.\n",
            "The ambiance of the hotel was very relaxing. Perfect for a weekend getaway.\n",
            "The pillows were a bit too soft for my liking, but the bed was otherwise comfortable.\n",
            "Really appreciated the complimentary bottled water and snacks in the room.\n",
            "The conference facilities were top-notch. Our event went smoothly.\n",
            "The room had a weird smell, but the staff were accommodating and moved us to a different room.\n",
            "The spa services were excellent. A great way to unwind during our stay.\n",
            "\n"
          ]
        }
      ]
    },
    {
      "cell_type": "code",
      "source": [
        "import torch\n",
        "from transformers import RobertaForSequenceClassification, RobertaTokenizer, GPT2LMHeadModel, GPT2Tokenizer\n",
        "import nltk\n",
        "from nltk.tokenize import sent_tokenize\n",
        "import matplotlib.pyplot as plt\n",
        "\n",
        "# Ensure necessary NLTK data is downloaded\n",
        "nltk.download('punkt')\n",
        "\n",
        "# Load pre-trained RoBERTa model and tokenizer\n",
        "roberta_model = RobertaForSequenceClassification.from_pretrained(\"cardiffnlp/twitter-roberta-base-sentiment\")\n",
        "roberta_tokenizer = RobertaTokenizer.from_pretrained(\"cardiffnlp/twitter-roberta-base-sentiment\")\n",
        "\n",
        "# Load GPT-2 model and tokenizer for generating replies\n",
        "gpt2_tokenizer = GPT2Tokenizer.from_pretrained(\"gpt2\")\n",
        "gpt2_model = GPT2LMHeadModel.from_pretrained(\"gpt2\")\n",
        "\n",
        "# Define function to read reviews from a text file\n",
        "def read_reviews(file_path):\n",
        "    with open(file_path, 'r', encoding='utf-8') as file:\n",
        "        reviews = file.readlines()\n",
        "    return reviews\n",
        "\n",
        "# Define function to perform sentiment analysis using RoBERTa\n",
        "def sentiment_analysis(text):\n",
        "    inputs = roberta_tokenizer(text, return_tensors=\"pt\", truncation=True, padding=True)\n",
        "    outputs = roberta_model(**inputs)\n",
        "    scores = outputs.logits.detach().numpy()[0]\n",
        "    sentiment = scores.argmax()\n",
        "    if sentiment == 0:  # Negative\n",
        "        return \"NEGATIVE\"\n",
        "    elif sentiment == 1:  # Neutral\n",
        "        return \"NEUTRAL\"\n",
        "    else:  # Positive\n",
        "        return \"POSITIVE\"\n",
        "\n",
        "# Define function to identify problems and generate replies\n",
        "def analyze_reviews(reviews):\n",
        "    problems = []\n",
        "    replies = []\n",
        "    problems_with_sentiment = []\n",
        "    sentiment_counts = {\"POSITIVE\": 0, \"NEUTRAL\": 0, \"NEGATIVE\": 0}\n",
        "\n",
        "    for review in reviews:\n",
        "        # Tokenize the review into sentences\n",
        "        sentences = sent_tokenize(review)\n",
        "\n",
        "        for sentence in sentences:\n",
        "            # Analyze sentiment of each sentence\n",
        "            sentiment = sentiment_analysis(sentence)\n",
        "            sentiment_counts[sentiment] += 1\n",
        "            problems_with_sentiment.append((sentence, sentiment))\n",
        "            # If the sentiment is negative or neutral, consider it a problem\n",
        "            if sentiment in ['NEGATIVE', 'NEUTRAL']:\n",
        "                problems.append(sentence)\n",
        "\n",
        "                # Generate a reply based on the problem\n",
        "                input_text = f\"Customer complaint: {sentence}\\nHotel response:\"\n",
        "                inputs = gpt2_tokenizer.encode(input_text, return_tensors=\"pt\")\n",
        "                outputs = gpt2_model.generate(inputs, max_length=100, num_return_sequences=1, no_repeat_ngram_size=2)\n",
        "                reply = gpt2_tokenizer.decode(outputs[0], skip_special_tokens=True)\n",
        "                replies.append(reply.replace(input_text, \"\").strip())\n",
        "\n",
        "    return problems, replies, sentiment_counts, problems_with_sentiment\n",
        "\n",
        "# Define function to print problems and replies\n",
        "def print_problems_replies(problems, replies):\n",
        "    for i, (problem, reply) in enumerate(zip(problems, replies)):\n",
        "        print(f\"Problem {i+1}: {problem}\")\n",
        "        print(f\"Hotel Reply: {reply}\")\n",
        "        print()\n",
        "\n",
        "# Define function to visualize sentiment distribution\n",
        "def visualize_sentiments(sentiment_counts):\n",
        "    labels = sentiment_counts.keys()\n",
        "    sizes = sentiment_counts.values()\n",
        "    colors = ['green', 'blue', 'red']\n",
        "    explode = (0.1, 0, 0)  # explode the 1st slice (i.e., 'POSITIVE')\n",
        "\n",
        "    plt.figure(figsize=(8, 8))\n",
        "    plt.pie(sizes, explode=explode, labels=labels, colors=colors,\n",
        "            autopct='%1.1f%%', shadow=True, startangle=140)\n",
        "    plt.axis('equal')  # Equal aspect ratio ensures that pie is drawn as a circle.\n",
        "    plt.title(\"Sentiment Distribution of Hotel Reviews\")\n",
        "    plt.show()\n",
        "\n",
        "# Main function to execute the analysis\n",
        "def main():\n",
        "    file_path = 'hotel_reviews.txt'  # Path to the file containing hotel reviews\n",
        "    reviews = read_reviews(file_path)\n",
        "    problems, replies, sentiment_counts, problems_with_sentiment = analyze_reviews(reviews)\n",
        "    print_problems_replies(problems, replies)\n",
        "    visualize_sentiments(sentiment_counts)\n",
        "    print(\"Problems with Sentiment:\")\n",
        "    for problem, sentiment in problems_with_sentiment:\n",
        "        print(f\"Sentence: {problem}, Sentiment: {sentiment}\")\n",
        "\n",
        "if __name__ == \"__main__\":\n",
        "    main()\n"
      ],
      "metadata": {
        "id": "MLHyPxgEa1xf",
        "outputId": "ee738b4f-16a8-4f2f-d6ec-969917623c38",
        "colab": {
          "base_uri": "https://localhost:8080/",
          "height": 1000
        }
      },
      "execution_count": null,
      "outputs": [
        {
          "output_type": "stream",
          "name": "stderr",
          "text": [
            "[nltk_data] Downloading package punkt to /root/nltk_data...\n",
            "[nltk_data]   Package punkt is already up-to-date!\n",
            "Asking to truncate to max_length but no maximum length is provided and the model has no predefined maximum length. Default to no truncation.\n",
            "The attention mask and the pad token id were not set. As a consequence, you may observe unexpected behavior. Please pass your input's `attention_mask` to obtain reliable results.\n",
            "Setting `pad_token_id` to `eos_token_id`:50256 for open-end generation.\n",
            "The attention mask and the pad token id were not set. As a consequence, you may observe unexpected behavior. Please pass your input's `attention_mask` to obtain reliable results.\n",
            "Setting `pad_token_id` to `eos_token_id`:50256 for open-end generation.\n",
            "The attention mask and the pad token id were not set. As a consequence, you may observe unexpected behavior. Please pass your input's `attention_mask` to obtain reliable results.\n",
            "Setting `pad_token_id` to `eos_token_id`:50256 for open-end generation.\n",
            "The attention mask and the pad token id were not set. As a consequence, you may observe unexpected behavior. Please pass your input's `attention_mask` to obtain reliable results.\n",
            "Setting `pad_token_id` to `eos_token_id`:50256 for open-end generation.\n",
            "The attention mask and the pad token id were not set. As a consequence, you may observe unexpected behavior. Please pass your input's `attention_mask` to obtain reliable results.\n",
            "Setting `pad_token_id` to `eos_token_id`:50256 for open-end generation.\n",
            "The attention mask and the pad token id were not set. As a consequence, you may observe unexpected behavior. Please pass your input's `attention_mask` to obtain reliable results.\n",
            "Setting `pad_token_id` to `eos_token_id`:50256 for open-end generation.\n",
            "The attention mask and the pad token id were not set. As a consequence, you may observe unexpected behavior. Please pass your input's `attention_mask` to obtain reliable results.\n",
            "Setting `pad_token_id` to `eos_token_id`:50256 for open-end generation.\n",
            "The attention mask and the pad token id were not set. As a consequence, you may observe unexpected behavior. Please pass your input's `attention_mask` to obtain reliable results.\n",
            "Setting `pad_token_id` to `eos_token_id`:50256 for open-end generation.\n",
            "The attention mask and the pad token id were not set. As a consequence, you may observe unexpected behavior. Please pass your input's `attention_mask` to obtain reliable results.\n",
            "Setting `pad_token_id` to `eos_token_id`:50256 for open-end generation.\n"
          ]
        },
        {
          "output_type": "stream",
          "name": "stdout",
          "text": [
            "Problem 1: The service was terrible.\n",
            "Hotel Reply: We were told that the service is not available in the hotel. We asked for a refund and they said they would not refund us. The hotel did not return our calls. I was told to call the manager and she would be happy to help me. She did. It was a very rude experience.\n",
            "\n",
            "Problem 2: I had to wait an hour for my room.\n",
            "Hotel Reply: We were told that the hotel was closed for the day. We had a few hours to get to the front desk and get our order. The wait was long and we were not able to make it to our room because of the wait. I was told to call the manager and ask for a refund. They said they would refund the money if I called back. So I did. It was a long wait\n",
            "\n",
            "Problem 3: The location was great, but the food was not up to the mark.\n",
            "Hotel Reply: We ordered the \"Hotels\" menu and it was a little disappointing. The menu was very good and the service was good. We were able to order the menu from the restaurant and they were very friendly. I would definitely recommend this place to anyone looking for a great place.\n",
            "\n",
            "Problem 4: I found a cockroach in my bathroom.\n",
            "Hotel Reply: We have a problem with a hot dog. We are looking into it. I am not sure if it is a dog or a human. If it was a cat, I would not be able to get it to come out. Please contact us.\n",
            "\n",
            "Problem 5: Disgusting!\n",
            "Hotel Reply: We are sorry for the inconvenience.\n",
            "We are currently in the process of reviewing the complaint. We will be contacting you as soon as possible.\n",
            "\n",
            "Problem 6: I was disappointed with the internet speed.\n",
            "Hotel Reply: We are currently in the process of upgrading our internet service to a new system. We will be contacting you to discuss this issue.\n",
            "\n",
            "Problem 7: It was very slow.\n",
            "Hotel Reply: We were told that the hotel was not able to accommodate the guests. We had to wait for the next day to get the room. The next morning, we were able, and we are very happy with the service. I am very disappointed with this hotel. It is a very nice hotel and I would recommend it to anyone who is looking for a great hotel in the area.\n",
            "\n",
            "Problem 8: The air conditioning in my room was not working properly.\n",
            "Hotel Reply: I was told that the air conditioner was working fine. I called the hotel and they told me that they would be replacing the heater. The hotel said that it was a problem and that I would have to pay for the replacement. They said they will be contacting the customer service department to get the problem fixed.\n",
            "\n",
            "Problem 9: Will visit again.\n",
            "Hotel Reply: No. We are sorry for the inconvenience. Please call us at (800) 722-9000.\n",
            "\n"
          ]
        },
        {
          "output_type": "display_data",
          "data": {
            "text/plain": [
              "<Figure size 800x800 with 1 Axes>"
            ],
            "image/png": "[encoded data removed]"
          },
          "metadata": {}
        },
        {
          "output_type": "stream",
          "name": "stdout",
          "text": [
            "Problems with Sentiment:\n",
            "Sentence: The room was very clean and spacious., Sentiment: POSITIVE\n",
            "Sentence: I enjoyed my stay., Sentiment: POSITIVE\n",
            "Sentence: The service was terrible., Sentiment: NEGATIVE\n",
            "Sentence: I had to wait an hour for my room., Sentiment: NEGATIVE\n",
            "Sentence: The location was great, but the food was not up to the mark., Sentiment: NEGATIVE\n",
            "Sentence: Very comfortable beds and friendly staff., Sentiment: POSITIVE\n",
            "Sentence: I found a cockroach in my bathroom., Sentiment: NEGATIVE\n",
            "Sentence: Disgusting!, Sentiment: NEGATIVE\n",
            "Sentence: The breakfast was delicious, and the view from my room was amazing., Sentiment: POSITIVE\n",
            "Sentence: I was disappointed with the internet speed., Sentiment: NEGATIVE\n",
            "Sentence: It was very slow., Sentiment: NEGATIVE\n",
            "Sentence: The hotel is in a prime location, close to all the attractions., Sentiment: POSITIVE\n",
            "Sentence: The air conditioning in my room was not working properly., Sentiment: NEGATIVE\n",
            "Sentence: Excellent service and very clean hotel., Sentiment: POSITIVE\n",
            "Sentence: Will visit again., Sentiment: NEUTRAL\n"
          ]
        }
      ]
    },
    {
      "cell_type": "code",
      "source": [
        "import torch\n",
        "from transformers import RobertaForSequenceClassification, RobertaTokenizer\n",
        "import nltk\n",
        "from nltk.tokenize import sent_tokenize\n",
        "import matplotlib.pyplot as plt\n",
        "from collections import Counter\n",
        "\n",
        "# Ensure necessary NLTK data is downloaded\n",
        "nltk.download('punkt')\n",
        "\n",
        "# Load pre-trained RoBERTa model and tokenizer\n",
        "roberta_model = RobertaForSequenceClassification.from_pretrained(\"cardiffnlp/twitter-roberta-base-sentiment\")\n",
        "roberta_tokenizer = RobertaTokenizer.from_pretrained(\"cardiffnlp/twitter-roberta-base-sentiment\")\n",
        "\n",
        "# Define function to read reviews from a text file\n",
        "def read_reviews(file_path):\n",
        "    with open(file_path, 'r', encoding='utf-8') as file:\n",
        "        reviews = file.readlines()\n",
        "    return reviews\n",
        "\n",
        "# Define function to perform sentiment analysis using RoBERTa\n",
        "def sentiment_analysis(text):\n",
        "    inputs = roberta_tokenizer(text, return_tensors=\"pt\", truncation=True, padding=True)\n",
        "    outputs = roberta_model(**inputs)\n",
        "    scores = outputs.logits.detach().numpy()[0]\n",
        "    sentiment = scores.argmax()\n",
        "    if sentiment == 0:  # Negative\n",
        "        return \"NEGATIVE\"\n",
        "    elif sentiment == 1:  # Neutral\n",
        "        return \"NEUTRAL\"\n",
        "    else:  # Positive\n",
        "        return \"POSITIVE\"\n",
        "\n",
        "# Define function to analyze reviews and generate insights\n",
        "def analyze_reviews(reviews):\n",
        "    problems = []\n",
        "    sentiment_counts = {\"POSITIVE\": 0, \"NEUTRAL\": 0, \"NEGATIVE\": 0}\n",
        "\n",
        "    for review in reviews:\n",
        "        # Tokenize the review into sentences\n",
        "        sentences = sent_tokenize(review)\n",
        "\n",
        "        for sentence in sentences:\n",
        "            # Analyze sentiment of each sentence\n",
        "            sentiment = sentiment_analysis(sentence)\n",
        "            sentiment_counts[sentiment] += 1\n",
        "\n",
        "            # If the sentiment is negative or neutral, consider it a problem\n",
        "            if sentiment in ['NEGATIVE', 'NEUTRAL']:\n",
        "                problems.append(sentence)\n",
        "\n",
        "    return problems, sentiment_counts\n",
        "\n",
        "# Define function to print insights for hotel managers\n",
        "def print_insights(problems):\n",
        "    problem_counter = Counter(problems)\n",
        "    most_common_problems = problem_counter.most_common(5)\n",
        "\n",
        "    print(\"Top Issues Mentioned in Reviews:\")\n",
        "    for i, (problem, count) in enumerate(most_common_problems, start=1):\n",
        "        print(f\"{i}. {problem} (Mentioned {count} times)\")\n",
        "\n",
        "    print(\"\\nSuggestions for Improvement:\")\n",
        "    for problem, count in most_common_problems:\n",
        "        if \"service\" in problem.lower():\n",
        "            print(\"- Improve customer service by providing additional training to staff.\")\n",
        "        elif \"cleanliness\" in problem.lower() or \"cockroach\" in problem.lower():\n",
        "            print(\"- Ensure higher standards of cleanliness and more frequent room inspections.\")\n",
        "        elif \"food\" in problem.lower() or \"breakfast\" in problem.lower():\n",
        "            print(\"- Enhance the quality and variety of food offerings.\")\n",
        "        elif \"internet\" in problem.lower() or \"wifi\" in problem.lower():\n",
        "            print(\"- Upgrade the internet infrastructure to provide faster and more reliable Wi-Fi.\")\n",
        "        elif \"air conditioning\" in problem.lower():\n",
        "            print(\"- Regularly maintain air conditioning systems to ensure they are functioning properly.\")\n",
        "\n",
        "# Define function to visualize sentiment distribution\n",
        "def visualize_sentiments(sentiment_counts):\n",
        "    labels = sentiment_counts.keys()\n",
        "    sizes = sentiment_counts.values()\n",
        "    colors = ['green', 'blue', 'red']\n",
        "    explode = (0.1, 0, 0)  # explode the 1st slice (i.e., 'POSITIVE')\n",
        "\n",
        "    plt.figure(figsize=(8, 8))\n",
        "    plt.pie(sizes, explode=explode, labels=labels, colors=colors,\n",
        "            autopct='%1.1f%%', shadow=True, startangle=140)\n",
        "    plt.axis('equal')  # Equal aspect ratio ensures that pie is drawn as a circle.\n",
        "    plt.title(\"Sentiment Distribution of Hotel Reviews\")\n",
        "    plt.show()\n",
        "\n",
        "# Main function to execute the analysis\n",
        "def main():\n",
        "    file_path = 'hotel_reviews.txt'  # Path to the file containing hotel reviews\n",
        "    reviews = read_reviews(file_path)\n",
        "    problems, sentiment_counts = analyze_reviews(reviews)\n",
        "    print_insights(problems)\n",
        "    visualize_sentiments(sentiment_counts)\n",
        "\n",
        "if __name__ == \"__main__\":\n",
        "    main()\n"
      ],
      "metadata": {
        "id": "84tdkvfbd44R",
        "outputId": "5e288991-f90a-4bcd-a7f6-dbbe8f8c6a06",
        "colab": {
          "base_uri": "https://localhost:8080/",
          "height": 938
        }
      },
      "execution_count": null,
      "outputs": [
        {
          "output_type": "stream",
          "name": "stderr",
          "text": [
            "[nltk_data] Downloading package punkt to /root/nltk_data...\n",
            "[nltk_data]   Package punkt is already up-to-date!\n",
            "Asking to truncate to max_length but no maximum length is provided and the model has no predefined maximum length. Default to no truncation.\n"
          ]
        },
        {
          "output_type": "stream",
          "name": "stdout",
          "text": [
            "Top Issues Mentioned in Reviews:\n",
            "1. The service was terrible. (Mentioned 1 times)\n",
            "2. I had to wait an hour for my room. (Mentioned 1 times)\n",
            "3. The location was great, but the food was not up to the mark. (Mentioned 1 times)\n",
            "4. I found a cockroach in my bathroom. (Mentioned 1 times)\n",
            "5. Disgusting! (Mentioned 1 times)\n",
            "\n",
            "Suggestions for Improvement:\n",
            "- Improve customer service by providing additional training to staff.\n",
            "- Enhance the quality and variety of food offerings.\n",
            "- Ensure higher standards of cleanliness and more frequent room inspections.\n"
          ]
        },
        {
          "output_type": "display_data",
          "data": {
            "text/plain": [
              "<Figure size 800x800 with 1 Axes>"
            ],
            "image/png": "[encoded data removed]"
          },
          "metadata": {}
        }
      ]
    },
    {
      "cell_type": "code",
      "source": [
        "import torch\n",
        "from transformers import RobertaForSequenceClassification, RobertaTokenizer\n",
        "import nltk\n",
        "from nltk.tokenize import sent_tokenize\n",
        "import matplotlib.pyplot as plt\n",
        "from collections import Counter\n",
        "\n",
        "nltk.download('punkt')\n",
        "\n",
        "roberta_model = RobertaForSequenceClassification.from_pretrained(\"cardiffnlp/twitter-roberta-base-sentiment\")\n",
        "roberta_tokenizer = RobertaTokenizer.from_pretrained(\"cardiffnlp/twitter-roberta-base-sentiment\")\n",
        "\n",
        "def read_reviews(file_path):\n",
        "  # Read the file as a plain text file and store each line as a review\n",
        "  with open(file_path, 'r', encoding='utf-8') as file:\n",
        "    reviews = file.readlines()\n",
        "  return reviews\n",
        "\n",
        "def sentiment_analysis(text):\n",
        "  inputs = roberta_tokenizer(text, return_tensors=\"pt\", truncation=True, padding=True, max_length=512)\n",
        "  with torch.no_grad():\n",
        "    outputs = roberta_model(**inputs)\n",
        "    scores = outputs.logits.detach().numpy()[0]\n",
        "    sentiment = scores.argmax()\n",
        "    if sentiment == 0:  # Negative\n",
        "        return \"NEGATIVE\"\n",
        "    elif sentiment == 1:  # Neutral\n",
        "        return \"NEUTRAL\"\n",
        "    else:  # Positive\n",
        "        return \"POSITIVE\"\n",
        "\n",
        "# Define function to analyze reviews and generate insights\n",
        "def analyze_reviews(reviews):\n",
        "    problems = []\n",
        "    sentiment_counts = {\"POSITIVE\": 0, \"NEUTRAL\": 0, \"NEGATIVE\": 0}\n",
        "\n",
        "    for review in reviews:\n",
        "        # Tokenize the review into sentences\n",
        "        sentences = sent_tokenize(review)\n",
        "        for sentence in sentences:\n",
        "            # Analyze sentiment of each sentence\n",
        "            sentiment = sentiment_analysis(sentence)\n",
        "            sentiment_counts[sentiment] += 1\n",
        "\n",
        "            # If the sentiment is negative or neutral, consider it a problem\n",
        "            if sentiment in ['NEGATIVE', 'NEUTRAL']:\n",
        "                problems.append(sentence)\n",
        "\n",
        "    return problems, sentiment_counts\n",
        "\n",
        "def list_common_problems(problems):\n",
        "    problem_counter = Counter(problems)\n",
        "    most_common_problems = problem_counter.most_common(5)\n",
        "\n",
        "    print(\"Top Issues Mentioned in Reviews:\")\n",
        "    for i, (problem, count) in enumerate(most_common_problems, start=1):\n",
        "        print(f\"{i}. {problem} (Mentioned {count} times)\")\n",
        "\n",
        "\n",
        "# Define function to visualize sentiment distribution\n",
        "def visualize_sentiments(sentiment_counts):\n",
        "    labels = list(sentiment_counts.keys())\n",
        "    sizes = list(sentiment_counts.values())\n",
        "    colors = ['green', 'blue', 'red']\n",
        "\n",
        "    plt.figure(figsize=(10, 6))\n",
        "    bars = plt.bar(labels, sizes, color=colors)\n",
        "\n",
        "    # Add text annotations on bars\n",
        "    for bar in bars:\n",
        "        yval = bar.get_height()\n",
        "        plt.text(bar.get_x() + bar.get_width()/2, yval + 1, yval, ha='center', va='bottom')\n",
        "\n",
        "    plt.xlabel('Sentiment')\n",
        "    plt.ylabel('Number of Reviews')\n",
        "    plt.title('Sentiment Distribution of Hotel Reviews')\n",
        "    plt.show()\n",
        "\n",
        "# Main function to execute the analysis\n",
        "def main():\n",
        "    file_path = 'hotel_reviews.txt'  # Path to the file containing hotel reviews\n",
        "    reviews = read_reviews(file_path)\n",
        "    problems, sentiment_counts = analyze_reviews(reviews)\n",
        "    list_common_problems(problems)\n",
        "    visualize_sentiments(sentiment_counts)\n",
        "\n",
        "if __name__ == \"__main__\":\n",
        "    main()\n"
      ],
      "metadata": {
        "id": "4BZaxOfYePLP",
        "outputId": "b7b86387-e615-4090-abca-652dbaae39b3",
        "colab": {
          "base_uri": "https://localhost:8080/",
          "height": 703
        }
      },
      "execution_count": null,
      "outputs": [
        {
          "output_type": "stream",
          "name": "stderr",
          "text": [
            "[nltk_data] Downloading package punkt to /root/nltk_data...\n",
            "[nltk_data]   Package punkt is already up-to-date!\n"
          ]
        },
        {
          "output_type": "stream",
          "name": "stdout",
          "text": [
            "Top Issues Mentioned in Reviews:\n",
            "1. Check-in was a breeze, but the room was a bit outdated. (Mentioned 1 times)\n",
            "2. Had some issues with the Wi-Fi, but the front desk resolved it quickly. (Mentioned 1 times)\n",
            "3. The bed was extremely comfortable, but the noise from the street was quite bothersome. (Mentioned 1 times)\n",
            "4. The pool area was lovely, but the water was too cold for my liking. (Mentioned 1 times)\n",
            "5. The bathroom was clean, but the shower pressure was too low. (Mentioned 1 times)\n"
          ]
        },
        {
          "output_type": "display_data",
          "data": {
            "text/plain": [
              "<Figure size 1000x600 with 1 Axes>"
            ],
            "image/png": "[encoded data removed]"
          },
          "metadata": {}
        }
      ]
    },
    {
      "source": [
        "cities = pd.DataFrame({ 'City name': city_names, 'Population': population })\n",
        "print(type(cities['City name']))\n",
        "cities['City name']"
      ],
      "cell_type": "code",
      "execution_count": null,
      "outputs": [],
      "metadata": {
        "id": "_TFm7-looBFF"
      }
    },
    {
      "source": [
        "print(type(cities['City name'][1]))\n",
        "cities['City name'][1]"
      ],
      "cell_type": "code",
      "execution_count": null,
      "outputs": [],
      "metadata": {
        "id": "V5L6xacLoxyv"
      }
    },
    {
      "source": [
        "print(type(cities[0:2]))\n",
        "cities[0:2]"
      ],
      "cell_type": "code",
      "execution_count": null,
      "outputs": [],
      "metadata": {
        "id": "gcYX1tBPugZl"
      }
    },
    {
      "source": [
        "In addition, *pandas* provides an extremely rich API for advanced [indexing and selection](http://pandas.pydata.org/pandas-docs/stable/indexing.html) that is too extensive to be covered here."
      ],
      "cell_type": "markdown",
      "metadata": {
        "id": "65g1ZdGVjXsQ"
      }
    },
    {
      "source": [
        "## Manipulating Data\n",
        "\n",
        "You may apply Python's basic arithmetic operations to `Series`. For example:"
      ],
      "cell_type": "markdown",
      "metadata": {
        "id": "RM1iaD-ka3Y1"
      }
    },
    {
      "source": [
        "population / 1000."
      ],
      "cell_type": "code",
      "execution_count": null,
      "outputs": [],
      "metadata": {
        "id": "XWmyCFJ5bOv-"
      }
    },
    {
      "source": [
        "[NumPy](http://www.numpy.org/) is a popular toolkit for scientific computing. *pandas* `Series` can be used as arguments to most NumPy functions:"
      ],
      "cell_type": "markdown",
      "metadata": {
        "id": "TQzIVnbnmWGM"
      }
    },
    {
      "source": [
        "import numpy as np\n",
        "\n",
        "np.log(population)"
      ],
      "cell_type": "code",
      "execution_count": null,
      "outputs": [],
      "metadata": {
        "id": "ko6pLK6JmkYP"
      }
    },
    {
      "source": [
        "For more complex single-column transformations, you can use `Series.apply`. Like the Python [map function](https://docs.python.org/2/library/functions.html#map),\n",
        "`Series.apply` accepts as an argument a [lambda function](https://docs.python.org/2/tutorial/controlflow.html#lambda-expressions), which is applied to each value.\n",
        "\n",
        "The example below creates a new `Series` that indicates whether `population` is over one million:"
      ],
      "cell_type": "markdown",
      "metadata": {
        "id": "xmxFuQmurr6d"
      }
    },
    {
      "source": [
        "population.apply(lambda val: val > 1000000)"
      ],
      "cell_type": "code",
      "execution_count": null,
      "outputs": [],
      "metadata": {
        "id": "Fc1DvPAbstjI"
      }
    },
    {
      "source": [
        "\n",
        "Modifying `DataFrames` is also straightforward. For example, the following code adds two `Series` to an existing `DataFrame`:"
      ],
      "cell_type": "markdown",
      "metadata": {
        "id": "ZeYYLoV9b9fB"
      }
    },
    {
      "source": [
        "cities['Area square miles'] = pd.Series([46.87, 176.53, 97.92])\n",
        "cities['Population density'] = cities['Population'] / cities['Area square miles']\n",
        "cities"
      ],
      "cell_type": "code",
      "execution_count": null,
      "outputs": [],
      "metadata": {
        "id": "0gCEX99Hb8LR"
      }
    },
    {
      "source": [
        "## Exercise #1\n",
        "\n",
        "Modify the `cities` table by adding a new boolean column that is True if and only if *both* of the following are True:\n",
        "\n",
        "  * The city is named after a saint.\n",
        "  * The city has an area greater than 50 square miles.\n",
        "\n",
        "**Note:** Boolean `Series` are combined using the bitwise, rather than the traditional boolean, operators. For example, when performing *logical and*, use `&` instead of `and`.\n",
        "\n",
        "**Hint:** \"San\" in Spanish means \"saint.\""
      ],
      "cell_type": "markdown",
      "metadata": {
        "id": "6qh63m-ayb-c"
      }
    },
    {
      "source": [
        "# Your code here"
      ],
      "cell_type": "code",
      "execution_count": null,
      "outputs": [],
      "metadata": {
        "id": "zCOn8ftSyddH"
      }
    },
    {
      "source": [
        "### Solution\n",
        "\n",
        "Click below for a solution."
      ],
      "cell_type": "markdown",
      "metadata": {
        "id": "YHIWvc9Ms-Ll"
      }
    },
    {
      "source": [
        "cities['Is wide and has saint name'] = (cities['Area square miles'] > 50) & cities['City name'].apply(lambda name: name.startswith('San'))\n",
        "cities"
      ],
      "cell_type": "code",
      "execution_count": null,
      "outputs": [],
      "metadata": {
        "id": "T5OlrqtdtCIb"
      }
    },
    {
      "source": [
        "## Indexes\n",
        "Both `Series` and `DataFrame` objects also define an `index` property that assigns an identifier value to each `Series` item or `DataFrame` row.\n",
        "\n",
        "By default, at construction, *pandas* assigns index values that reflect the ordering of the source data. Once created, the index values are stable; that is, they do not change when data is reordered."
      ],
      "cell_type": "markdown",
      "metadata": {
        "id": "f-xAOJeMiXFB"
      }
    },
    {
      "source": [
        "city_names.index"
      ],
      "cell_type": "code",
      "execution_count": null,
      "outputs": [],
      "metadata": {
        "id": "2684gsWNinq9"
      }
    },
    {
      "source": [
        "cities.index"
      ],
      "cell_type": "code",
      "execution_count": null,
      "outputs": [],
      "metadata": {
        "id": "F_qPe2TBjfWd"
      }
    },
    {
      "source": [
        "Call `DataFrame.reindex` to manually reorder the rows. For example, the following has the same effect as sorting by city name:"
      ],
      "cell_type": "markdown",
      "metadata": {
        "id": "hp2oWY9Slo_h"
      }
    },
    {
      "source": [
        "cities.reindex([2, 0, 1])"
      ],
      "cell_type": "code",
      "execution_count": null,
      "outputs": [],
      "metadata": {
        "id": "sN0zUzSAj-U1"
      }
    },
    {
      "source": [
        "Reindexing is a great way to shuffle (randomize) a `DataFrame`. In the example below, we take the index, which is array-like, and pass it to NumPy's `random.permutation` function, which shuffles its values in place. Calling `reindex` with this shuffled array causes the `DataFrame` rows to be shuffled in the same way.\n",
        "Try running the following cell multiple times!"
      ],
      "cell_type": "markdown",
      "metadata": {
        "id": "-GQFz8NZuS06"
      }
    },
    {
      "source": [
        "cities.reindex(np.random.permutation(cities.index))"
      ],
      "cell_type": "code",
      "execution_count": null,
      "outputs": [],
      "metadata": {
        "id": "mF8GC0k8uYhz"
      }
    },
    {
      "source": [
        "For more information, see the [Index documentation](http://pandas.pydata.org/pandas-docs/stable/indexing.html#index-objects)."
      ],
      "cell_type": "markdown",
      "metadata": {
        "id": "fSso35fQmGKb"
      }
    },
    {
      "source": [
        "## Exercise #2\n",
        "\n",
        "The `reindex` method allows index values that are not in the original `DataFrame`'s index values. Try it and see what happens if you use such values! Why do you think this is allowed?"
      ],
      "cell_type": "markdown",
      "metadata": {
        "id": "8UngIdVhz8C0"
      }
    },
    {
      "source": [
        "# Your code here"
      ],
      "cell_type": "code",
      "execution_count": null,
      "outputs": [],
      "metadata": {
        "id": "PN55GrDX0jzO"
      }
    },
    {
      "source": [
        "### Solution\n",
        "\n",
        "Click below for the solution."
      ],
      "cell_type": "markdown",
      "metadata": {
        "id": "TJffr5_Jwqvd"
      }
    },
    {
      "source": [
        "If your `reindex` input array includes values not in the original `DataFrame` index values, `reindex` will add new rows for these \"missing\" indices and populate all corresponding columns with `NaN` values:"
      ],
      "cell_type": "markdown",
      "metadata": {
        "id": "8oSvi2QWwuDH"
      }
    },
    {
      "source": [
        "cities.reindex([0, 4, 5, 2])"
      ],
      "cell_type": "code",
      "execution_count": null,
      "outputs": [],
      "metadata": {
        "id": "yBdkucKCwy4x"
      }
    },
    {
      "source": [
        "This behavior is desirable because indexes are often strings pulled from the actual data (see the [*pandas* reindex\n",
        "documentation](http://pandas.pydata.org/pandas-docs/stable/generated/pandas.DataFrame.reindex.html) for an example\n",
        "in which the index values are browser names).\n",
        "\n",
        "In this case, allowing \"missing\" indices makes it easy to reindex using an external list, as you don't have to worry about\n",
        "sanitizing the input."
      ],
      "cell_type": "markdown",
      "metadata": {
        "id": "2l82PhPbwz7g"
      }
    }
  ],
  "metadata": {
    "colab": {
      "collapsed_sections": [
        "JndnmDMp66FL",
        "YHIWvc9Ms-Ll",
        "TJffr5_Jwqvd"
      ],
      "name": "intro_to_pandas.ipynb",
      "provenance": [],
      "include_colab_link": true
    },
    "kernelspec": {
      "name": "python3",
      "display_name": "Python 3"
    }
  },
  "nbformat": 4
}